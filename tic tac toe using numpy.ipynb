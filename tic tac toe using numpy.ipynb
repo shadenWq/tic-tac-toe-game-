{
 "cells": [
  {
   "cell_type": "code",
   "execution_count": null,
   "id": "2f344a82-a41c-43e1-8fc4-04d76e325332",
   "metadata": {},
   "outputs": [
    {
     "name": "stdout",
     "output_type": "stream",
     "text": [
      "Initial Board:\n",
      "[[' ' ' ' ' ']\n",
      " [' ' ' ' ' ']\n",
      " [' ' ' ' ' ']]\n",
      "Xturn:\n"
     ]
    },
    {
     "name": "stdin",
     "output_type": "stream",
     "text": [
      "Enter the position as (row,column):  1,1\n"
     ]
    },
    {
     "name": "stdout",
     "output_type": "stream",
     "text": [
      "[[' ' ' ' ' ']\n",
      " [' ' 'X' ' ']\n",
      " [' ' ' ' ' ']]\n",
      "Oturn:\n"
     ]
    },
    {
     "name": "stdin",
     "output_type": "stream",
     "text": [
      "Enter the position as (row,column):  1,0\n"
     ]
    },
    {
     "name": "stdout",
     "output_type": "stream",
     "text": [
      "[[' ' ' ' ' ']\n",
      " ['O' 'X' ' ']\n",
      " [' ' ' ' ' ']]\n",
      "Xturn:\n"
     ]
    },
    {
     "name": "stdin",
     "output_type": "stream",
     "text": [
      "Enter the position as (row,column):  0,0\n"
     ]
    },
    {
     "name": "stdout",
     "output_type": "stream",
     "text": [
      "[['X' ' ' ' ']\n",
      " ['O' 'X' ' ']\n",
      " [' ' ' ' ' ']]\n",
      "Oturn:\n"
     ]
    },
    {
     "name": "stdin",
     "output_type": "stream",
     "text": [
      "Enter the position as (row,column):  2,2\n"
     ]
    },
    {
     "name": "stdout",
     "output_type": "stream",
     "text": [
      "[['X' ' ' ' ']\n",
      " ['O' 'X' ' ']\n",
      " [' ' ' ' 'O']]\n",
      "Xturn:\n"
     ]
    }
   ],
   "source": [
    "import numpy as np\n",
    "\n",
    "board = np.full((3, 3), ' ', dtype=str)\n",
    "\n",
    "def check_winner(board, symbol):\n",
    "    for i in range(3):\n",
    "        if (board[i, 0] == symbol and board[i, 1] == symbol and board[i, 2] == symbol) or (board[0, i] == symbol and board[1, i] == symbol and board[2, i] == symbol):\n",
    "            return True\n",
    "\n",
    "    if (board[0, 0] == symbol and board[1, 1] == symbol and board[2, 2] == symbol) or (board[0, 2] == symbol and board[1, 1] == symbol and board[2, 0] == symbol):\n",
    "        return True\n",
    "\n",
    "    return False\n",
    "\n",
    "def is_draw(board):\n",
    "    return ' ' not in board\n",
    "\n",
    "winning = False\n",
    "draw = False\n",
    "current_player = \"X\"  \n",
    "\n",
    "print(\"Initial Board:\")\n",
    "print(board)\n",
    "\n",
    "while not (winning or draw):\n",
    "    print(current_player+ \"turn:\")\n",
    "    try:\n",
    "        user_input = input(\"Enter the position as (row,column): \")\n",
    "        row, col=map(int, user_input.split(\",\"))\n",
    "        # row=int(user_input[0])\n",
    "        # col=int(user_input[2])\n",
    "\n",
    "        if board[row, col] != ' ':\n",
    "            print(\"position is taken choose another one\")\n",
    "            continue\n",
    "\n",
    "        board[row, col] = current_player\n",
    "        print(board)\n",
    "\n",
    "        if check_winner(board, current_player):\n",
    "            print(f\"Player {current_player} wins!\")\n",
    "            winning = True\n",
    "            break\n",
    "\n",
    "        if is_draw(board):\n",
    "            print(\"it's a draw\")\n",
    "            draw = True\n",
    "            break\n",
    "\n",
    "        if current_player == \"X\":\n",
    "            current_player = \"O\"\n",
    "        else:\n",
    "            current_player = \"X\"\n",
    "\n",
    "    except (ValueError, IndexError):\n",
    "        print(\"invalid input\")\n",
    "\n",
    "# print(board)"
   ]
  }
 ],
 "metadata": {
  "kernelspec": {
   "display_name": "Python 3 (ipykernel)",
   "language": "python",
   "name": "python3"
  },
  "language_info": {
   "codemirror_mode": {
    "name": "ipython",
    "version": 3
   },
   "file_extension": ".py",
   "mimetype": "text/x-python",
   "name": "python",
   "nbconvert_exporter": "python",
   "pygments_lexer": "ipython3",
   "version": "3.12.4"
  }
 },
 "nbformat": 4,
 "nbformat_minor": 5
}
